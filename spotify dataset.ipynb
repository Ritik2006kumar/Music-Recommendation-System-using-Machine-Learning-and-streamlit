{
 "cells": [
  {
   "cell_type": "code",
   "execution_count": 1,
   "id": "e79f3742-01c3-48c7-a8ab-3b92b56ce39b",
   "metadata": {},
   "outputs": [],
   "source": [
    "import pandas as pd\n",
    "import numpy as np\n",
    "import matplotlib.pyplot as plt\n",
    "import seaborn as sns\n",
    "import warnings\n",
    "warnings.filterwarnings('ignore')"
   ]
  },
  {
   "cell_type": "code",
   "execution_count": 2,
   "id": "59daa9f7-a899-4f6f-977d-59b3de31ac49",
   "metadata": {},
   "outputs": [
    {
     "data": {
      "text/html": [
       "<div>\n",
       "<style scoped>\n",
       "    .dataframe tbody tr th:only-of-type {\n",
       "        vertical-align: middle;\n",
       "    }\n",
       "\n",
       "    .dataframe tbody tr th {\n",
       "        vertical-align: top;\n",
       "    }\n",
       "\n",
       "    .dataframe thead th {\n",
       "        text-align: right;\n",
       "    }\n",
       "</style>\n",
       "<table border=\"1\" class=\"dataframe\">\n",
       "  <thead>\n",
       "    <tr style=\"text-align: right;\">\n",
       "      <th></th>\n",
       "      <th>artist</th>\n",
       "      <th>song</th>\n",
       "      <th>link</th>\n",
       "      <th>text</th>\n",
       "    </tr>\n",
       "  </thead>\n",
       "  <tbody>\n",
       "    <tr>\n",
       "      <th>0</th>\n",
       "      <td>ABBA</td>\n",
       "      <td>Ahe's My Kind Of Girl</td>\n",
       "      <td>/a/abba/ahes+my+kind+of+girl_20598417.html</td>\n",
       "      <td>Look at her face, it's a wonderful face  \\r\\nA...</td>\n",
       "    </tr>\n",
       "    <tr>\n",
       "      <th>1</th>\n",
       "      <td>ABBA</td>\n",
       "      <td>Andante, Andante</td>\n",
       "      <td>/a/abba/andante+andante_20002708.html</td>\n",
       "      <td>Take it easy with me, please  \\r\\nTouch me gen...</td>\n",
       "    </tr>\n",
       "    <tr>\n",
       "      <th>2</th>\n",
       "      <td>ABBA</td>\n",
       "      <td>As Good As New</td>\n",
       "      <td>/a/abba/as+good+as+new_20003033.html</td>\n",
       "      <td>I'll never know why I had to go  \\r\\nWhy I had...</td>\n",
       "    </tr>\n",
       "    <tr>\n",
       "      <th>3</th>\n",
       "      <td>ABBA</td>\n",
       "      <td>Bang</td>\n",
       "      <td>/a/abba/bang_20598415.html</td>\n",
       "      <td>Making somebody happy is a question of give an...</td>\n",
       "    </tr>\n",
       "    <tr>\n",
       "      <th>4</th>\n",
       "      <td>ABBA</td>\n",
       "      <td>Bang-A-Boomerang</td>\n",
       "      <td>/a/abba/bang+a+boomerang_20002668.html</td>\n",
       "      <td>Making somebody happy is a question of give an...</td>\n",
       "    </tr>\n",
       "    <tr>\n",
       "      <th>...</th>\n",
       "      <td>...</td>\n",
       "      <td>...</td>\n",
       "      <td>...</td>\n",
       "      <td>...</td>\n",
       "    </tr>\n",
       "    <tr>\n",
       "      <th>57645</th>\n",
       "      <td>Ziggy Marley</td>\n",
       "      <td>Good Old Days</td>\n",
       "      <td>/z/ziggy+marley/good+old+days_10198588.html</td>\n",
       "      <td>Irie days come on play  \\r\\nLet the angels fly...</td>\n",
       "    </tr>\n",
       "    <tr>\n",
       "      <th>57646</th>\n",
       "      <td>Ziggy Marley</td>\n",
       "      <td>Hand To Mouth</td>\n",
       "      <td>/z/ziggy+marley/hand+to+mouth_20531167.html</td>\n",
       "      <td>Power to the workers  \\r\\nMore power  \\r\\nPowe...</td>\n",
       "    </tr>\n",
       "    <tr>\n",
       "      <th>57647</th>\n",
       "      <td>Zwan</td>\n",
       "      <td>Come With Me</td>\n",
       "      <td>/z/zwan/come+with+me_20148981.html</td>\n",
       "      <td>all you need  \\r\\nis something i'll believe  \\...</td>\n",
       "    </tr>\n",
       "    <tr>\n",
       "      <th>57648</th>\n",
       "      <td>Zwan</td>\n",
       "      <td>Desire</td>\n",
       "      <td>/z/zwan/desire_20148986.html</td>\n",
       "      <td>northern star  \\r\\nam i frightened  \\r\\nwhere ...</td>\n",
       "    </tr>\n",
       "    <tr>\n",
       "      <th>57649</th>\n",
       "      <td>Zwan</td>\n",
       "      <td>Heartsong</td>\n",
       "      <td>/z/zwan/heartsong_20148991.html</td>\n",
       "      <td>come in  \\r\\nmake yourself at home  \\r\\ni'm a ...</td>\n",
       "    </tr>\n",
       "  </tbody>\n",
       "</table>\n",
       "<p>57650 rows × 4 columns</p>\n",
       "</div>"
      ],
      "text/plain": [
       "             artist                   song  \\\n",
       "0              ABBA  Ahe's My Kind Of Girl   \n",
       "1              ABBA       Andante, Andante   \n",
       "2              ABBA         As Good As New   \n",
       "3              ABBA                   Bang   \n",
       "4              ABBA       Bang-A-Boomerang   \n",
       "...             ...                    ...   \n",
       "57645  Ziggy Marley          Good Old Days   \n",
       "57646  Ziggy Marley          Hand To Mouth   \n",
       "57647          Zwan           Come With Me   \n",
       "57648          Zwan                 Desire   \n",
       "57649          Zwan              Heartsong   \n",
       "\n",
       "                                              link  \\\n",
       "0       /a/abba/ahes+my+kind+of+girl_20598417.html   \n",
       "1            /a/abba/andante+andante_20002708.html   \n",
       "2             /a/abba/as+good+as+new_20003033.html   \n",
       "3                       /a/abba/bang_20598415.html   \n",
       "4           /a/abba/bang+a+boomerang_20002668.html   \n",
       "...                                            ...   \n",
       "57645  /z/ziggy+marley/good+old+days_10198588.html   \n",
       "57646  /z/ziggy+marley/hand+to+mouth_20531167.html   \n",
       "57647           /z/zwan/come+with+me_20148981.html   \n",
       "57648                 /z/zwan/desire_20148986.html   \n",
       "57649              /z/zwan/heartsong_20148991.html   \n",
       "\n",
       "                                                    text  \n",
       "0      Look at her face, it's a wonderful face  \\r\\nA...  \n",
       "1      Take it easy with me, please  \\r\\nTouch me gen...  \n",
       "2      I'll never know why I had to go  \\r\\nWhy I had...  \n",
       "3      Making somebody happy is a question of give an...  \n",
       "4      Making somebody happy is a question of give an...  \n",
       "...                                                  ...  \n",
       "57645  Irie days come on play  \\r\\nLet the angels fly...  \n",
       "57646  Power to the workers  \\r\\nMore power  \\r\\nPowe...  \n",
       "57647  all you need  \\r\\nis something i'll believe  \\...  \n",
       "57648  northern star  \\r\\nam i frightened  \\r\\nwhere ...  \n",
       "57649  come in  \\r\\nmake yourself at home  \\r\\ni'm a ...  \n",
       "\n",
       "[57650 rows x 4 columns]"
      ]
     },
     "execution_count": 2,
     "metadata": {},
     "output_type": "execute_result"
    }
   ],
   "source": [
    "df =pd.read_csv('spotify_millsongdata.csv')\n",
    "df"
   ]
  },
  {
   "cell_type": "code",
   "execution_count": 3,
   "id": "f598c0b0-16a3-4f7e-acca-8aef7a40f0cf",
   "metadata": {},
   "outputs": [
    {
     "name": "stdout",
     "output_type": "stream",
     "text": [
      "<class 'pandas.core.frame.DataFrame'>\n",
      "RangeIndex: 57650 entries, 0 to 57649\n",
      "Data columns (total 4 columns):\n",
      " #   Column  Non-Null Count  Dtype \n",
      "---  ------  --------------  ----- \n",
      " 0   artist  57650 non-null  object\n",
      " 1   song    57650 non-null  object\n",
      " 2   link    57650 non-null  object\n",
      " 3   text    57650 non-null  object\n",
      "dtypes: object(4)\n",
      "memory usage: 1.8+ MB\n"
     ]
    }
   ],
   "source": [
    "df.info()"
   ]
  },
  {
   "cell_type": "code",
   "execution_count": 4,
   "id": "dc516f7f-29f0-4ada-b2eb-a4a1f93c00ba",
   "metadata": {},
   "outputs": [
    {
     "data": {
      "text/plain": [
       "np.int64(0)"
      ]
     },
     "execution_count": 4,
     "metadata": {},
     "output_type": "execute_result"
    }
   ],
   "source": [
    "df.duplicated().sum()"
   ]
  },
  {
   "cell_type": "code",
   "execution_count": 5,
   "id": "2f99eded-93cf-4721-974e-ac75cf93af08",
   "metadata": {},
   "outputs": [
    {
     "data": {
      "text/plain": [
       "(57650, 4)"
      ]
     },
     "execution_count": 5,
     "metadata": {},
     "output_type": "execute_result"
    }
   ],
   "source": [
    "df.shape"
   ]
  },
  {
   "cell_type": "code",
   "execution_count": 6,
   "id": "b07bbc79-ae16-435b-9110-fd621b14cad3",
   "metadata": {},
   "outputs": [],
   "source": [
    "df = df.sample(5000).drop('link',axis =1).reset_index(drop =True)"
   ]
  },
  {
   "cell_type": "code",
   "execution_count": 7,
   "id": "f4c97a46-8107-428b-b6f6-f8b4bfd8955f",
   "metadata": {},
   "outputs": [
    {
     "data": {
      "text/html": [
       "<div>\n",
       "<style scoped>\n",
       "    .dataframe tbody tr th:only-of-type {\n",
       "        vertical-align: middle;\n",
       "    }\n",
       "\n",
       "    .dataframe tbody tr th {\n",
       "        vertical-align: top;\n",
       "    }\n",
       "\n",
       "    .dataframe thead th {\n",
       "        text-align: right;\n",
       "    }\n",
       "</style>\n",
       "<table border=\"1\" class=\"dataframe\">\n",
       "  <thead>\n",
       "    <tr style=\"text-align: right;\">\n",
       "      <th></th>\n",
       "      <th>artist</th>\n",
       "      <th>song</th>\n",
       "      <th>text</th>\n",
       "    </tr>\n",
       "  </thead>\n",
       "  <tbody>\n",
       "    <tr>\n",
       "      <th>0</th>\n",
       "      <td>Blur</td>\n",
       "      <td>Battery In Your Leg</td>\n",
       "      <td>This is a ballad for the good times  \\r\\nSo pu...</td>\n",
       "    </tr>\n",
       "    <tr>\n",
       "      <th>1</th>\n",
       "      <td>LL Cool J</td>\n",
       "      <td>Born To Love You</td>\n",
       "      <td>You're not a chicken-head going \"hee-shey\"  \\r...</td>\n",
       "    </tr>\n",
       "    <tr>\n",
       "      <th>2</th>\n",
       "      <td>Poison</td>\n",
       "      <td>Blame It On You</td>\n",
       "      <td>She's got pizazz  \\r\\nLike a razzmatazz  \\r\\nI...</td>\n",
       "    </tr>\n",
       "    <tr>\n",
       "      <th>3</th>\n",
       "      <td>John Mellencamp</td>\n",
       "      <td>Serious Business</td>\n",
       "      <td>You ain't goin' nowhere  \\r\\nGonna sit by this...</td>\n",
       "    </tr>\n",
       "    <tr>\n",
       "      <th>4</th>\n",
       "      <td>Rammstein</td>\n",
       "      <td>Schwarzes Glas (Black Glass) English</td>\n",
       "      <td>A small wish, oh if you were blind  \\r\\nwe are...</td>\n",
       "    </tr>\n",
       "  </tbody>\n",
       "</table>\n",
       "</div>"
      ],
      "text/plain": [
       "            artist                                  song  \\\n",
       "0             Blur                   Battery In Your Leg   \n",
       "1        LL Cool J                      Born To Love You   \n",
       "2           Poison                       Blame It On You   \n",
       "3  John Mellencamp                      Serious Business   \n",
       "4        Rammstein  Schwarzes Glas (Black Glass) English   \n",
       "\n",
       "                                                text  \n",
       "0  This is a ballad for the good times  \\r\\nSo pu...  \n",
       "1  You're not a chicken-head going \"hee-shey\"  \\r...  \n",
       "2  She's got pizazz  \\r\\nLike a razzmatazz  \\r\\nI...  \n",
       "3  You ain't goin' nowhere  \\r\\nGonna sit by this...  \n",
       "4  A small wish, oh if you were blind  \\r\\nwe are...  "
      ]
     },
     "execution_count": 7,
     "metadata": {},
     "output_type": "execute_result"
    }
   ],
   "source": [
    "df.head()"
   ]
  },
  {
   "cell_type": "code",
   "execution_count": 8,
   "id": "af2d315c-2ce5-4372-80c6-db6240489014",
   "metadata": {},
   "outputs": [
    {
     "data": {
      "text/plain": [
       "\"This is a ballad for the good times  \\r\\nSo put a battery in your leg  \\r\\nPut a rock beat over anything  \\r\\nGet it stuck there in your head  \\r\\nYou can be with me  \\r\\n  \\r\\nI got nothing to rely on  \\r\\nI've broken every bone  \\r\\nEverybody's stop believing  \\r\\nBut you know you're not alone  \\r\\nYou can be with me  \\r\\n  \\r\\nThis is a ballad for the good times  \\r\\nAnd all the dignity we had  \\r\\nDon't get het up on the evil things  \\r\\nYou ain't coming back  \\r\\nYou can be with me  \\r\\nIf you want to be  \\r\\nYou can be with me?\\r\\n\\r\\n\""
      ]
     },
     "execution_count": 8,
     "metadata": {},
     "output_type": "execute_result"
    }
   ],
   "source": [
    "df['text'][0]"
   ]
  },
  {
   "cell_type": "code",
   "execution_count": 9,
   "id": "3bc77339-5f01-4784-9718-5cea31a38825",
   "metadata": {},
   "outputs": [],
   "source": [
    "df = df.sample(5000)"
   ]
  },
  {
   "cell_type": "code",
   "execution_count": 10,
   "id": "8cc0a662-99bc-43dd-9bbf-ee3c4b6f4889",
   "metadata": {},
   "outputs": [
    {
     "data": {
      "text/plain": [
       "(5000, 3)"
      ]
     },
     "execution_count": 10,
     "metadata": {},
     "output_type": "execute_result"
    }
   ],
   "source": [
    "df.shape"
   ]
  },
  {
   "cell_type": "markdown",
   "id": "6faad273-f3c4-437e-a80f-8fa510bf3898",
   "metadata": {},
   "source": [
    "# Text cleaning "
   ]
  },
  {
   "cell_type": "code",
   "execution_count": 11,
   "id": "9e13418a-9fee-4a53-97c1-81953c4c4e33",
   "metadata": {},
   "outputs": [],
   "source": [
    "df['text'] = df['text'].str.lower().replace(r'^\\w\\s',' ').replace(r'\\n',' ',regex =True)"
   ]
  },
  {
   "cell_type": "code",
   "execution_count": 12,
   "id": "d5c56ab1-43b3-42bc-b1d7-bdb4161c3f2e",
   "metadata": {},
   "outputs": [
    {
     "data": {
      "text/html": [
       "<div>\n",
       "<style scoped>\n",
       "    .dataframe tbody tr th:only-of-type {\n",
       "        vertical-align: middle;\n",
       "    }\n",
       "\n",
       "    .dataframe tbody tr th {\n",
       "        vertical-align: top;\n",
       "    }\n",
       "\n",
       "    .dataframe thead th {\n",
       "        text-align: right;\n",
       "    }\n",
       "</style>\n",
       "<table border=\"1\" class=\"dataframe\">\n",
       "  <thead>\n",
       "    <tr style=\"text-align: right;\">\n",
       "      <th></th>\n",
       "      <th>artist</th>\n",
       "      <th>song</th>\n",
       "      <th>text</th>\n",
       "    </tr>\n",
       "  </thead>\n",
       "  <tbody>\n",
       "    <tr>\n",
       "      <th>2387</th>\n",
       "      <td>New Order</td>\n",
       "      <td>Your Silent Face</td>\n",
       "      <td>a thought that never changes  \\r remains a stu...</td>\n",
       "    </tr>\n",
       "    <tr>\n",
       "      <th>914</th>\n",
       "      <td>Waterboys</td>\n",
       "      <td>Why Look At The Moon</td>\n",
       "      <td>willows were swaying  \\r the water was ripplin...</td>\n",
       "    </tr>\n",
       "    <tr>\n",
       "      <th>4972</th>\n",
       "      <td>Foreigner</td>\n",
       "      <td>The Beat Of My Heart</td>\n",
       "      <td>ooh the beat of my heart  \\r ooh the beat of m...</td>\n",
       "    </tr>\n",
       "    <tr>\n",
       "      <th>2529</th>\n",
       "      <td>Bryan White</td>\n",
       "      <td>So Much For Pretending</td>\n",
       "      <td>straight out of some story  \\r you walk in in ...</td>\n",
       "    </tr>\n",
       "    <tr>\n",
       "      <th>4391</th>\n",
       "      <td>Van Morrison</td>\n",
       "      <td>Evening Train</td>\n",
       "      <td>love to hear that evening train go by  \\r love...</td>\n",
       "    </tr>\n",
       "  </tbody>\n",
       "</table>\n",
       "</div>"
      ],
      "text/plain": [
       "            artist                    song  \\\n",
       "2387     New Order        Your Silent Face   \n",
       "914      Waterboys    Why Look At The Moon   \n",
       "4972     Foreigner    The Beat Of My Heart   \n",
       "2529   Bryan White  So Much For Pretending   \n",
       "4391  Van Morrison           Evening Train   \n",
       "\n",
       "                                                   text  \n",
       "2387  a thought that never changes  \\r remains a stu...  \n",
       "914   willows were swaying  \\r the water was ripplin...  \n",
       "4972  ooh the beat of my heart  \\r ooh the beat of m...  \n",
       "2529  straight out of some story  \\r you walk in in ...  \n",
       "4391  love to hear that evening train go by  \\r love...  "
      ]
     },
     "execution_count": 12,
     "metadata": {},
     "output_type": "execute_result"
    }
   ],
   "source": [
    "df.head()"
   ]
  },
  {
   "cell_type": "code",
   "execution_count": 13,
   "id": "1b914bc7-15b4-4987-b544-ef0439394280",
   "metadata": {},
   "outputs": [],
   "source": [
    "#pip install nltk"
   ]
  },
  {
   "cell_type": "code",
   "execution_count": 14,
   "id": "18e6a004-b828-4fb1-8c22-561d43f029b6",
   "metadata": {},
   "outputs": [
    {
     "name": "stderr",
     "output_type": "stream",
     "text": [
      "[nltk_data] Downloading package punkt_tab to\n",
      "[nltk_data]     C:\\Users\\hp\\AppData\\Roaming\\nltk_data...\n",
      "[nltk_data]   Package punkt_tab is already up-to-date!\n"
     ]
    }
   ],
   "source": [
    "#import nltk\n",
    "import nltk\n",
    "nltk.download('punkt_tab')\n",
    "from nltk.stem.porter import PorterStemmer"
   ]
  },
  {
   "cell_type": "code",
   "execution_count": 15,
   "id": "2259180d-6543-4ebd-a2cf-97ea0afed734",
   "metadata": {},
   "outputs": [],
   "source": [
    "stemmer = PorterStemmer()"
   ]
  },
  {
   "cell_type": "code",
   "execution_count": 16,
   "id": "8c889e64-c3a2-474b-84ab-6c36fb4325bb",
   "metadata": {},
   "outputs": [],
   "source": [
    "def token(txt):\n",
    "    token = nltk.word_tokenize(txt)\n",
    "    a = [stemmer.stem(w) for w in token]\n",
    "    return \" \".join(a)"
   ]
  },
  {
   "cell_type": "code",
   "execution_count": 17,
   "id": "bd2457ee-dcc1-44ea-875f-87c5920195b7",
   "metadata": {},
   "outputs": [
    {
     "data": {
      "text/plain": [
       "'oh my god ! what a fabul room !'"
      ]
     },
     "execution_count": 17,
     "metadata": {},
     "output_type": "execute_result"
    }
   ],
   "source": [
    "token('oh my god! what a fabulous room!')"
   ]
  },
  {
   "cell_type": "code",
   "execution_count": 18,
   "id": "40535b57-8d4e-482e-92f8-811d5305feb5",
   "metadata": {},
   "outputs": [
    {
     "data": {
      "text/plain": [
       "2387    a thought that never chang remain a stupid lie...\n",
       "914     willow were sway the water wa rippl the froggi...\n",
       "4972    ooh the beat of my heart ooh the beat of my he...\n",
       "2529    straight out of some stori you walk in in all ...\n",
       "4391    love to hear that even train go by love to hea...\n",
       "                              ...                        \n",
       "46      never more awar of what you do . i got you lea...\n",
       "4523    say it say it say it tell it like it is say it...\n",
       "4978    when you 're feel low hypoderm 's where you go...\n",
       "489     let me tell you a stori let me shovel some dir...\n",
       "4644    today i pass you on the street and my heart fe...\n",
       "Name: text, Length: 5000, dtype: object"
      ]
     },
     "execution_count": 18,
     "metadata": {},
     "output_type": "execute_result"
    }
   ],
   "source": [
    "df['text'].apply(lambda x: token(x))"
   ]
  },
  {
   "cell_type": "code",
   "execution_count": 19,
   "id": "2815b034-a376-4cd5-b302-79ef6820f1a3",
   "metadata": {},
   "outputs": [],
   "source": [
    "from sklearn.feature_extraction.text import TfidfVectorizer\n",
    "from sklearn.metrics.pairwise import cosine_similarity"
   ]
  },
  {
   "cell_type": "code",
   "execution_count": 20,
   "id": "806c5ebb-728a-41e9-aeb6-a011f066713b",
   "metadata": {},
   "outputs": [],
   "source": [
    " tfid =TfidfVectorizer(analyzer ='word' ,stop_words ='english')"
   ]
  },
  {
   "cell_type": "code",
   "execution_count": 21,
   "id": "af3d98cf-c4d3-4607-bca6-655fc6ef1354",
   "metadata": {},
   "outputs": [],
   "source": [
    "matrix = tfid.fit_transform(df['text'])"
   ]
  },
  {
   "cell_type": "code",
   "execution_count": 22,
   "id": "f64ba8af-4ff3-4e95-a980-e45db417f4da",
   "metadata": {},
   "outputs": [],
   "source": [
    "similer = cosine_similarity(matrix)"
   ]
  },
  {
   "cell_type": "code",
   "execution_count": 23,
   "id": "74e7ce22-9176-4889-9b8e-f805366939f3",
   "metadata": {},
   "outputs": [
    {
     "data": {
      "text/plain": [
       "array([[1.        , 0.00496451, 0.00597553, ..., 0.05083303, 0.00872858,\n",
       "        0.01999958],\n",
       "       [0.00496451, 1.        , 0.01585477, ..., 0.0106054 , 0.        ,\n",
       "        0.0080076 ],\n",
       "       [0.00597553, 0.01585477, 1.        , ..., 0.02777327, 0.00576027,\n",
       "        0.05020402],\n",
       "       ...,\n",
       "       [0.05083303, 0.0106054 , 0.02777327, ..., 1.        , 0.02370336,\n",
       "        0.01695784],\n",
       "       [0.00872858, 0.        , 0.00576027, ..., 0.02370336, 1.        ,\n",
       "        0.00646277],\n",
       "       [0.01999958, 0.0080076 , 0.05020402, ..., 0.01695784, 0.00646277,\n",
       "        1.        ]], shape=(5000, 5000))"
      ]
     },
     "execution_count": 23,
     "metadata": {},
     "output_type": "execute_result"
    }
   ],
   "source": [
    "similer"
   ]
  },
  {
   "cell_type": "code",
   "execution_count": 24,
   "id": "4f03b40a-e36b-43b3-bc51-a1c966d78479",
   "metadata": {},
   "outputs": [],
   "source": [
    "#df[df['song'] == 'Charge Me Up'].index[0]"
   ]
  },
  {
   "cell_type": "markdown",
   "id": "1841fc2d-8d29-4d29-879d-03fb81a8decb",
   "metadata": {},
   "source": [
    "# Recommender function"
   ]
  },
  {
   "cell_type": "code",
   "execution_count": 25,
   "id": "531aeeaa-2eeb-4451-be61-d56fd280640d",
   "metadata": {},
   "outputs": [],
   "source": [
    "def recommender(song_name):\n",
    "    idx = df[df['song'] == song_name].index[0]\n",
    "    distance =sorted(list(enumerate(similer[idx])),reverse =True ,key =lambda x: x[1])\n",
    "    song =[]\n",
    "    for s_id in distance[1:10]:\n",
    "        song.append(df.iloc[s_id[0]].song)\n",
    "    return song"
   ]
  },
  {
   "cell_type": "code",
   "execution_count": 27,
   "id": "42e8ef9c-3084-4149-ad7a-88cf97fef654",
   "metadata": {},
   "outputs": [
    {
     "data": {
      "text/plain": [
       "['Dreams Come True',\n",
       " 'Fantasy (Bad Boy Fantasy)',\n",
       " 'How Sweet It Is',\n",
       " 'Sweet Love',\n",
       " 'I Can See Forever In Your Eyes',\n",
       " 'Sweet, Sweet Smile',\n",
       " 'My Sweet One',\n",
       " 'Georgia Keeps Pulling On My Ring',\n",
       " 'Sweet Surrender']"
      ]
     },
     "execution_count": 27,
     "metadata": {},
     "output_type": "execute_result"
    }
   ],
   "source": [
    "recommender('Your Silent Face')"
   ]
  },
  {
   "cell_type": "code",
   "execution_count": 29,
   "id": "e7291192-1988-4ae5-be2f-8036cce10215",
   "metadata": {},
   "outputs": [],
   "source": [
    "import pickle"
   ]
  },
  {
   "cell_type": "code",
   "execution_count": 31,
   "id": "b6a1096c-21b2-4fce-8cd1-f6ccba6bfab3",
   "metadata": {},
   "outputs": [],
   "source": [
    "pickle.dump(similer,open(\"similarity.pkl\",'wb'))\n"
   ]
  },
  {
   "cell_type": "code",
   "execution_count": 32,
   "id": "2a148532-9fa2-4a9e-97bf-7dc38fae5a81",
   "metadata": {},
   "outputs": [],
   "source": [
    "pickle.dump(df ,open('data.pkl','wb'))"
   ]
  },
  {
   "cell_type": "code",
   "execution_count": null,
   "id": "8b2bf81e-40bf-4c59-9d1e-6911d8351a12",
   "metadata": {},
   "outputs": [],
   "source": []
  }
 ],
 "metadata": {
  "kernelspec": {
   "display_name": "Python 3 (ipykernel)",
   "language": "python",
   "name": "python3"
  },
  "language_info": {
   "codemirror_mode": {
    "name": "ipython",
    "version": 3
   },
   "file_extension": ".py",
   "mimetype": "text/x-python",
   "name": "python",
   "nbconvert_exporter": "python",
   "pygments_lexer": "ipython3",
   "version": "3.12.10"
  }
 },
 "nbformat": 4,
 "nbformat_minor": 5
}
